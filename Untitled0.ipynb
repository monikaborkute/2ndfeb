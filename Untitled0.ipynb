{
  "nbformat": 4,
  "nbformat_minor": 0,
  "metadata": {
    "colab": {
      "name": "Untitled0.ipynb",
      "provenance": [],
      "collapsed_sections": []
    },
    "kernelspec": {
      "name": "python3",
      "display_name": "Python 3"
    },
    "language_info": {
      "name": "python"
    }
  },
  "cells": [
    {
      "cell_type": "code",
      "execution_count": 2,
      "metadata": {
        "colab": {
          "base_uri": "https://localhost:8080/"
        },
        "id": "IYZ8rmom5oDi",
        "outputId": "dcaac228-2220-47b5-f75f-e97b7b067228"
      },
      "outputs": [
        {
          "output_type": "stream",
          "name": "stdout",
          "text": [
            "Blackwidow\n"
          ]
        }
      ],
      "source": [
        "\n",
        "# Python code to find key with Maximum value in Dictionary\n",
        "  \n",
        "# Dictionary Initialization\n",
        "Tv = {'Blackwidow':19000, 'GameOfThrones':1292, 'Lion king' : 88}\n",
        " \n",
        "Keymax = max(Tv, key= lambda x: Tv[x])\n",
        "print(Keymax)"
      ]
    }
  ]
}